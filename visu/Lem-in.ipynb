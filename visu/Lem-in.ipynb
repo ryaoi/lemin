{
 "cells": [
  {
   "cell_type": "code",
   "execution_count": 39,
   "metadata": {
    "scrolled": false
   },
   "outputs": [
    {
     "data": {
      "text/html": [
       "<div id=\"graph-4b88df77-1418-4c17-aade-cf36e59669d1\"></div>\n",
       "           <script type=\"text/javascript\">\n",
       "           require.config({baseUrl: '/',\n",
       "                             paths: {jgraph: ['nbextensions/jgraph.min', 'https://rawgit.com/patrickfuller/jgraph/master/js/build/jgraph.min']}});\n",
       "           require(['jgraph'], function () {\n",
       "               var $d = $('#graph-4b88df77-1418-4c17-aade-cf36e59669d1');\n",
       "               $d.width(800); $d.height(600);\n",
       "               $d.jgraph = jQuery.extend({}, jgraph);\n",
       "               $d.jgraph.create($d, {nodeSize: 2.000000,\n",
       "                                     edgeSize: 0.250000,\n",
       "                                     defaultNodeColor: '0x5bc0de',\n",
       "                                     defaultEdgeColor: '0xaaaaaa',\n",
       "                                     shader: 'basic',\n",
       "                                     z: 200,\n",
       "                                     runOptimization: true,\n",
       "                                     directed: false,\n",
       "                                     showSave: false});\n",
       "               $d.jgraph.draw({\n",
       "    \"edges\": [\n",
       "        { \"source\": \"0\", \"target\": \"2\" },\n",
       "        { \"source\": \"0\", \"target\": \"3\" },\n",
       "        { \"source\": \"2\", \"target\": \"1\" },\n",
       "        { \"source\": \"3\", \"target\": \"1\" },\n",
       "        { \"source\": \"2\", \"target\": \"3\" }\n",
       "    ],\n",
       "    \"nodes\": {\n",
       "        \"0\": { \"color\": \"0xffaaaa\", \"size\": 2.000 },\n",
       "        \"1\": { \"color\": \"0x4b1657\", \"size\": 2.000 },\n",
       "        \"2\": {},\n",
       "        \"3\": {}\n",
       "    }\n",
       "});\n",
       "\n",
       "               $d.resizable({\n",
       "                   aspectRatio: 800 / 600,\n",
       "                   resize: function (evt, ui) {\n",
       "                       $d.jgraph.renderer.setSize(ui.size.width,\n",
       "                                                  ui.size.height);\n",
       "                   }\n",
       "               });\n",
       "           });\n",
       "           </script>"
      ],
      "text/plain": [
       "<IPython.core.display.HTML object>"
      ]
     },
     "metadata": {},
     "output_type": "display_data"
    },
    {
     "data": {
      "text/html": [
       "<div id=\"graph-4afce026-4cce-496c-8231-fa2a3228ba2f\"></div>\n",
       "           <script type=\"text/javascript\">\n",
       "           require.config({baseUrl: '/',\n",
       "                             paths: {jgraph: ['nbextensions/jgraph.min', 'https://rawgit.com/patrickfuller/jgraph/master/js/build/jgraph.min']}});\n",
       "           require(['jgraph'], function () {\n",
       "               var $d = $('#graph-4afce026-4cce-496c-8231-fa2a3228ba2f');\n",
       "               $d.width(800); $d.height(600);\n",
       "               $d.jgraph = jQuery.extend({}, jgraph);\n",
       "               $d.jgraph.create($d, {nodeSize: 2.000000,\n",
       "                                     edgeSize: 0.250000,\n",
       "                                     defaultNodeColor: '0x5bc0de',\n",
       "                                     defaultEdgeColor: '0xaaaaaa',\n",
       "                                     shader: 'basic',\n",
       "                                     z: 200,\n",
       "                                     runOptimization: true,\n",
       "                                     directed: false,\n",
       "                                     showSave: false});\n",
       "               $d.jgraph.draw({\n",
       "    \"edges\": [\n",
       "        { \"source\": \"0\", \"target\": \"2\" },\n",
       "        { \"source\": \"0\", \"target\": \"3\" },\n",
       "        { \"source\": \"2\", \"target\": \"1\" },\n",
       "        { \"source\": \"3\", \"target\": \"1\" },\n",
       "        { \"source\": \"2\", \"target\": \"3\" }\n",
       "    ],\n",
       "    \"nodes\": {\n",
       "        \"0\": { \"color\": \"0xffaaaa\", \"size\": 2.000 },\n",
       "        \"1\": { \"color\": \"0x4b1657\", \"size\": 2.000 },\n",
       "        \"2\": { \"color\": \"0xa21f4d\", \"size\": 1.000 },\n",
       "        \"3\": { \"color\": \"0xa21f4d\", \"size\": 1.000 }\n",
       "    }\n",
       "});\n",
       "\n",
       "               $d.resizable({\n",
       "                   aspectRatio: 800 / 600,\n",
       "                   resize: function (evt, ui) {\n",
       "                       $d.jgraph.renderer.setSize(ui.size.width,\n",
       "                                                  ui.size.height);\n",
       "                   }\n",
       "               });\n",
       "           });\n",
       "           </script>"
      ],
      "text/plain": [
       "<IPython.core.display.HTML object>"
      ]
     },
     "metadata": {},
     "output_type": "display_data"
    },
    {
     "data": {
      "text/html": [
       "<div id=\"graph-029bcccc-5cdf-4bf6-8e4c-e45a34d1a4d9\"></div>\n",
       "           <script type=\"text/javascript\">\n",
       "           require.config({baseUrl: '/',\n",
       "                             paths: {jgraph: ['nbextensions/jgraph.min', 'https://rawgit.com/patrickfuller/jgraph/master/js/build/jgraph.min']}});\n",
       "           require(['jgraph'], function () {\n",
       "               var $d = $('#graph-029bcccc-5cdf-4bf6-8e4c-e45a34d1a4d9');\n",
       "               $d.width(800); $d.height(600);\n",
       "               $d.jgraph = jQuery.extend({}, jgraph);\n",
       "               $d.jgraph.create($d, {nodeSize: 2.000000,\n",
       "                                     edgeSize: 0.250000,\n",
       "                                     defaultNodeColor: '0x5bc0de',\n",
       "                                     defaultEdgeColor: '0xaaaaaa',\n",
       "                                     shader: 'basic',\n",
       "                                     z: 200,\n",
       "                                     runOptimization: true,\n",
       "                                     directed: false,\n",
       "                                     showSave: false});\n",
       "               $d.jgraph.draw({\n",
       "    \"edges\": [\n",
       "        { \"source\": \"0\", \"target\": \"2\" },\n",
       "        { \"source\": \"0\", \"target\": \"3\" },\n",
       "        { \"source\": \"2\", \"target\": \"1\" },\n",
       "        { \"source\": \"3\", \"target\": \"1\" },\n",
       "        { \"source\": \"2\", \"target\": \"3\" }\n",
       "    ],\n",
       "    \"nodes\": {\n",
       "        \"0\": { \"color\": \"0xffaaaa\", \"size\": 2.000 },\n",
       "        \"1\": { \"color\": \"0x4b1657\", \"size\": 2.000 },\n",
       "        \"2\": { \"color\": \"0xa21f4d\", \"size\": 1.000 },\n",
       "        \"3\": {}\n",
       "    }\n",
       "});\n",
       "\n",
       "               $d.resizable({\n",
       "                   aspectRatio: 800 / 600,\n",
       "                   resize: function (evt, ui) {\n",
       "                       $d.jgraph.renderer.setSize(ui.size.width,\n",
       "                                                  ui.size.height);\n",
       "                   }\n",
       "               });\n",
       "           });\n",
       "           </script>"
      ],
      "text/plain": [
       "<IPython.core.display.HTML object>"
      ]
     },
     "metadata": {},
     "output_type": "display_data"
    },
    {
     "data": {
      "text/html": [
       "<div id=\"graph-d4c9d54f-6ba0-4a5d-a4bd-b6f084612ab5\"></div>\n",
       "           <script type=\"text/javascript\">\n",
       "           require.config({baseUrl: '/',\n",
       "                             paths: {jgraph: ['nbextensions/jgraph.min', 'https://rawgit.com/patrickfuller/jgraph/master/js/build/jgraph.min']}});\n",
       "           require(['jgraph'], function () {\n",
       "               var $d = $('#graph-d4c9d54f-6ba0-4a5d-a4bd-b6f084612ab5');\n",
       "               $d.width(800); $d.height(600);\n",
       "               $d.jgraph = jQuery.extend({}, jgraph);\n",
       "               $d.jgraph.create($d, {nodeSize: 2.000000,\n",
       "                                     edgeSize: 0.250000,\n",
       "                                     defaultNodeColor: '0x5bc0de',\n",
       "                                     defaultEdgeColor: '0xaaaaaa',\n",
       "                                     shader: 'basic',\n",
       "                                     z: 200,\n",
       "                                     runOptimization: true,\n",
       "                                     directed: false,\n",
       "                                     showSave: false});\n",
       "               $d.jgraph.draw({\n",
       "    \"edges\": [\n",
       "        { \"source\": \"0\", \"target\": \"2\" },\n",
       "        { \"source\": \"0\", \"target\": \"3\" },\n",
       "        { \"source\": \"2\", \"target\": \"1\" },\n",
       "        { \"source\": \"3\", \"target\": \"1\" },\n",
       "        { \"source\": \"2\", \"target\": \"3\" }\n",
       "    ],\n",
       "    \"nodes\": {\n",
       "        \"0\": { \"color\": \"0xffaaaa\", \"size\": 2.000 },\n",
       "        \"1\": { \"color\": \"0x4b1657\", \"size\": 2.000 },\n",
       "        \"2\": {},\n",
       "        \"3\": {}\n",
       "    }\n",
       "});\n",
       "\n",
       "               $d.resizable({\n",
       "                   aspectRatio: 800 / 600,\n",
       "                   resize: function (evt, ui) {\n",
       "                       $d.jgraph.renderer.setSize(ui.size.width,\n",
       "                                                  ui.size.height);\n",
       "                   }\n",
       "               });\n",
       "           });\n",
       "           </script>"
      ],
      "text/plain": [
       "<IPython.core.display.HTML object>"
      ]
     },
     "metadata": {},
     "output_type": "display_data"
    }
   ],
   "source": [
    "%run map.py\n",
    "#lel\n",
    "%run step1.py\n",
    "%run step2.py\n",
    "%run step3.py"
   ]
  },
  {
   "cell_type": "code",
   "execution_count": null,
   "metadata": {
    "collapsed": true
   },
   "outputs": [],
   "source": []
  }
 ],
 "metadata": {
  "kernelspec": {
   "display_name": "Python 2",
   "language": "python",
   "name": "python2"
  },
  "language_info": {
   "codemirror_mode": {
    "name": "ipython",
    "version": 2
   },
   "file_extension": ".py",
   "mimetype": "text/x-python",
   "name": "python",
   "nbconvert_exporter": "python",
   "pygments_lexer": "ipython2",
   "version": "2.7.10"
  }
 },
 "nbformat": 4,
 "nbformat_minor": 2
}
