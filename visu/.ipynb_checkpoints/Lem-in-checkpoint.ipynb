{
 "cells": [
  {
   "cell_type": "code",
   "execution_count": 29,
   "metadata": {},
   "outputs": [
    {
     "data": {
      "text/html": [
       "<div id=\"graph-761e6947-f548-4a0c-9c30-616caa2dcce4\"></div>\n",
       "           <script type=\"text/javascript\">\n",
       "           require.config({baseUrl: '/',\n",
       "                             paths: {jgraph: ['nbextensions/jgraph.min', 'https://rawgit.com/patrickfuller/jgraph/master/js/build/jgraph.min']}});\n",
       "           require(['jgraph'], function () {\n",
       "               var $d = $('#graph-761e6947-f548-4a0c-9c30-616caa2dcce4');\n",
       "               $d.width(800); $d.height(600);\n",
       "               $d.jgraph = jQuery.extend({}, jgraph);\n",
       "               $d.jgraph.create($d, {nodeSize: 2.000000,\n",
       "                                     edgeSize: 0.250000,\n",
       "                                     defaultNodeColor: '0x5bc0de',\n",
       "                                     defaultEdgeColor: '0xaaaaaa',\n",
       "                                     shader: 'basic',\n",
       "                                     z: 200,\n",
       "                                     runOptimization: true,\n",
       "                                     directed: false,\n",
       "                                     showSave: false});\n",
       "               $d.jgraph.draw({\n",
       "    \"edges\": [\n",
       "        { \"source\": \"0\", \"target\": \"2\" },\n",
       "        { \"source\": \"2\", \"target\": \"3\" },\n",
       "        { \"source\": \"3\", \"target\": \"1\" }\n",
       "    ],\n",
       "    \"nodes\": {\n",
       "        \"0\": { \"color\": \"0xffaaaa\", \"size\": 2.000 },\n",
       "        \"1\": { \"color\": \"0x4b1657\", \"size\": 2.000 },\n",
       "        \"2\": { \"color\": \"0xffaaaa\", \"size\": 1.000 },\n",
       "        \"3\": {}\n",
       "    }\n",
       "});\n",
       "\n",
       "               $d.resizable({\n",
       "                   aspectRatio: 800 / 600,\n",
       "                   resize: function (evt, ui) {\n",
       "                       $d.jgraph.renderer.setSize(ui.size.width,\n",
       "                                                  ui.size.height);\n",
       "                   }\n",
       "               });\n",
       "           });\n",
       "           </script>"
      ],
      "text/plain": [
       "<IPython.core.display.HTML object>"
      ]
     },
     "metadata": {},
     "output_type": "display_data"
    },
    {
     "data": {
      "text/html": [
       "<div id=\"graph-5ac731d3-123c-4ddb-bfbf-122c2a522157\"></div>\n",
       "           <script type=\"text/javascript\">\n",
       "           require.config({baseUrl: '/',\n",
       "                             paths: {jgraph: ['nbextensions/jgraph.min', 'https://rawgit.com/patrickfuller/jgraph/master/js/build/jgraph.min']}});\n",
       "           require(['jgraph'], function () {\n",
       "               var $d = $('#graph-5ac731d3-123c-4ddb-bfbf-122c2a522157');\n",
       "               $d.width(800); $d.height(600);\n",
       "               $d.jgraph = jQuery.extend({}, jgraph);\n",
       "               $d.jgraph.create($d, {nodeSize: 2.000000,\n",
       "                                     edgeSize: 0.250000,\n",
       "                                     defaultNodeColor: '0x5bc0de',\n",
       "                                     defaultEdgeColor: '0xaaaaaa',\n",
       "                                     shader: 'basic',\n",
       "                                     z: 200,\n",
       "                                     runOptimization: true,\n",
       "                                     directed: false,\n",
       "                                     showSave: false});\n",
       "               $d.jgraph.draw({\n",
       "    \"edges\": [\n",
       "        { \"source\": \"0\", \"target\": \"2\" },\n",
       "        { \"source\": \"2\", \"target\": \"3\" },\n",
       "        { \"source\": \"3\", \"target\": \"1\" }\n",
       "    ],\n",
       "    \"nodes\": {\n",
       "        \"0\": { \"color\": \"0xffaaaa\", \"size\": 2.000 },\n",
       "        \"1\": { \"color\": \"0x4b1657\", \"size\": 2.000 },\n",
       "        \"2\": { \"color\": \"0xffaaaa\", \"size\": 1.000 },\n",
       "        \"3\": { \"color\": \"0xffaaaa\", \"size\": 1.000 }\n",
       "    }\n",
       "});\n",
       "\n",
       "               $d.resizable({\n",
       "                   aspectRatio: 800 / 600,\n",
       "                   resize: function (evt, ui) {\n",
       "                       $d.jgraph.renderer.setSize(ui.size.width,\n",
       "                                                  ui.size.height);\n",
       "                   }\n",
       "               });\n",
       "           });\n",
       "           </script>"
      ],
      "text/plain": [
       "<IPython.core.display.HTML object>"
      ]
     },
     "metadata": {},
     "output_type": "display_data"
    },
    {
     "data": {
      "text/html": [
       "<div id=\"graph-f5f97549-41cb-45c0-9f40-cbf3ecd272f2\"></div>\n",
       "           <script type=\"text/javascript\">\n",
       "           require.config({baseUrl: '/',\n",
       "                             paths: {jgraph: ['nbextensions/jgraph.min', 'https://rawgit.com/patrickfuller/jgraph/master/js/build/jgraph.min']}});\n",
       "           require(['jgraph'], function () {\n",
       "               var $d = $('#graph-f5f97549-41cb-45c0-9f40-cbf3ecd272f2');\n",
       "               $d.width(800); $d.height(600);\n",
       "               $d.jgraph = jQuery.extend({}, jgraph);\n",
       "               $d.jgraph.create($d, {nodeSize: 2.000000,\n",
       "                                     edgeSize: 0.250000,\n",
       "                                     defaultNodeColor: '0x5bc0de',\n",
       "                                     defaultEdgeColor: '0xaaaaaa',\n",
       "                                     shader: 'basic',\n",
       "                                     z: 200,\n",
       "                                     runOptimization: true,\n",
       "                                     directed: false,\n",
       "                                     showSave: false});\n",
       "               $d.jgraph.draw({\n",
       "    \"edges\": [\n",
       "        { \"source\": \"0\", \"target\": \"2\" },\n",
       "        { \"source\": \"2\", \"target\": \"3\" },\n",
       "        { \"source\": \"3\", \"target\": \"1\" }\n",
       "    ],\n",
       "    \"nodes\": {\n",
       "        \"0\": { \"color\": \"0xffaaaa\", \"size\": 2.000 },\n",
       "        \"1\": { \"color\": \"0xffaaaa\", \"size\": 1.000 },\n",
       "        \"2\": { \"color\": \"0xffaaaa\", \"size\": 1.000 },\n",
       "        \"3\": { \"color\": \"0xffaaaa\", \"size\": 1.000 }\n",
       "    }\n",
       "});\n",
       "\n",
       "               $d.resizable({\n",
       "                   aspectRatio: 800 / 600,\n",
       "                   resize: function (evt, ui) {\n",
       "                       $d.jgraph.renderer.setSize(ui.size.width,\n",
       "                                                  ui.size.height);\n",
       "                   }\n",
       "               });\n",
       "           });\n",
       "           </script>"
      ],
      "text/plain": [
       "<IPython.core.display.HTML object>"
      ]
     },
     "metadata": {},
     "output_type": "display_data"
    },
    {
     "data": {
      "text/html": [
       "<div id=\"graph-1af66768-eee1-4f0a-a1aa-f77552a48e5b\"></div>\n",
       "           <script type=\"text/javascript\">\n",
       "           require.config({baseUrl: '/',\n",
       "                             paths: {jgraph: ['nbextensions/jgraph.min', 'https://rawgit.com/patrickfuller/jgraph/master/js/build/jgraph.min']}});\n",
       "           require(['jgraph'], function () {\n",
       "               var $d = $('#graph-1af66768-eee1-4f0a-a1aa-f77552a48e5b');\n",
       "               $d.width(800); $d.height(600);\n",
       "               $d.jgraph = jQuery.extend({}, jgraph);\n",
       "               $d.jgraph.create($d, {nodeSize: 2.000000,\n",
       "                                     edgeSize: 0.250000,\n",
       "                                     defaultNodeColor: '0x5bc0de',\n",
       "                                     defaultEdgeColor: '0xaaaaaa',\n",
       "                                     shader: 'basic',\n",
       "                                     z: 200,\n",
       "                                     runOptimization: true,\n",
       "                                     directed: false,\n",
       "                                     showSave: false});\n",
       "               $d.jgraph.draw({\n",
       "    \"edges\": [\n",
       "        { \"source\": \"0\", \"target\": \"2\" },\n",
       "        { \"source\": \"2\", \"target\": \"3\" },\n",
       "        { \"source\": \"3\", \"target\": \"1\" }\n",
       "    ],\n",
       "    \"nodes\": {\n",
       "        \"0\": { \"color\": \"0xffaaaa\", \"size\": 2.000 },\n",
       "        \"1\": { \"color\": \"0xffaaaa\", \"size\": 1.000 },\n",
       "        \"2\": { \"color\": \"0xffaaaa\", \"size\": 1.000 },\n",
       "        \"3\": { \"color\": \"0xffaaaa\", \"size\": 1.000 }\n",
       "    }\n",
       "});\n",
       "\n",
       "               $d.resizable({\n",
       "                   aspectRatio: 800 / 600,\n",
       "                   resize: function (evt, ui) {\n",
       "                       $d.jgraph.renderer.setSize(ui.size.width,\n",
       "                                                  ui.size.height);\n",
       "                   }\n",
       "               });\n",
       "           });\n",
       "           </script>"
      ],
      "text/plain": [
       "<IPython.core.display.HTML object>"
      ]
     },
     "metadata": {},
     "output_type": "display_data"
    },
    {
     "name": "stderr",
     "output_type": "stream",
     "text": [
      "ERROR:root:File `u'step6.py'` not found.\n"
     ]
    }
   ],
   "source": [
    "%run step1.py\n",
    "%run step2.py\n",
    "%run step3.py\n",
    "%run step4.py\n",
    "%run step5.py"
   ]
  },
  {
   "cell_type": "code",
   "execution_count": null,
   "metadata": {
    "collapsed": true
   },
   "outputs": [],
   "source": []
  }
 ],
 "metadata": {
  "kernelspec": {
   "display_name": "Python 2",
   "language": "python",
   "name": "python2"
  },
  "language_info": {
   "codemirror_mode": {
    "name": "ipython",
    "version": 2
   },
   "file_extension": ".py",
   "mimetype": "text/x-python",
   "name": "python",
   "nbconvert_exporter": "python",
   "pygments_lexer": "ipython2",
   "version": "2.7.10"
  }
 },
 "nbformat": 4,
 "nbformat_minor": 2
}
